{
 "cells": [
  {
   "cell_type": "code",
   "execution_count": 2,
   "metadata": {},
   "outputs": [],
   "source": [
    "import tkinter as tk\n",
    "import threading\n",
    "import pyaudio\n",
    "import wave\n",
    "\n",
    "class App():\n",
    "    chunk = 1024 \n",
    "    sample_format = pyaudio.paInt16 \n",
    "    channels = 2\n",
    "    fs = 44100  \n",
    "    \n",
    "    frames = []  \n",
    "    def __init__(self, master):\n",
    "        self.isrecording = False\n",
    "        self.button1 = tk.Button(master, text='rec',command=self.startrecording)\n",
    "        self.button2 = tk.Button(master, text='stop',command=self.stoprecording)\n",
    "      \n",
    "        self.button1.pack()\n",
    "        self.button2.pack()\n",
    "\n",
    "    def startrecording(self):\n",
    "        self.p = pyaudio.PyAudio()  \n",
    "        self.stream = self.p.open(format=self.sample_format,channels=self.channels,rate=self.fs,frames_per_buffer=self.chunk,input=True)\n",
    "        self.isrecording = True\n",
    "        \n",
    "        print('Recording')\n",
    "        t = threading.Thread(target=self.record)\n",
    "        t.start()\n",
    "\n",
    "    def stoprecording(self):\n",
    "        self.isrecording = False\n",
    "        print('recording complete')\n",
    "        self.filename=input('the filename?')\n",
    "        self.filename = self.filename+\".wav\"\n",
    "        wf = wave.open(self.filename, 'wb')\n",
    "        wf.setnchannels(self.channels)\n",
    "        wf.setsampwidth(self.p.get_sample_size(self.sample_format))\n",
    "        wf.setframerate(self.fs)\n",
    "        wf.writeframes(b''.join(self.frames))\n",
    "        wf.close()\n",
    "        self.frames = [] #reset lại dữ liệu ghi âm\n",
    "        \n",
    "    def record(self):\n",
    "        while self.isrecording:\n",
    "            data = self.stream.read(self.chunk)\n",
    "            self.frames.append(data)\n",
    "\t\t\n",
    "\n",
    "main = tk.Tk()\n",
    "main.title('recorder')\n",
    "main.geometry('400x50')\n",
    "app = App(main)\n",
    "main.mainloop()"
   ]
  },
  {
   "cell_type": "code",
   "execution_count": null,
   "metadata": {},
   "outputs": [],
   "source": []
  }
 ],
 "metadata": {
  "kernelspec": {
   "display_name": "Python 3",
   "language": "python",
   "name": "python3"
  },
  "language_info": {
   "codemirror_mode": {
    "name": "ipython",
    "version": 3
   },
   "file_extension": ".py",
   "mimetype": "text/x-python",
   "name": "python",
   "nbconvert_exporter": "python",
   "pygments_lexer": "ipython3",
   "version": "3.7.6"
  }
 },
 "nbformat": 4,
 "nbformat_minor": 4
}
