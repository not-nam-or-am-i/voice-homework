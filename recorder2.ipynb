{
 "cells": [
  {
   "cell_type": "code",
   "execution_count": 17,
   "metadata": {},
   "outputs": [
    {
     "name": "stdout",
     "output_type": "stream",
     "text": [
      "Recording\n",
      "recording complete\n",
      "Recording\n",
      "recording complete\n"
     ]
    }
   ],
   "source": [
    "import tkinter as tk\n",
    "import threading\n",
    "import pyaudio\n",
    "import wave\n",
    "\n",
    "class Recorder():\n",
    "    chunk = 1024 \n",
    "    sample_format = pyaudio.paInt16 \n",
    "    channels = 2\n",
    "    fs = 44100\n",
    "    sentence_counter = 0 #đếm câu\n",
    "    \n",
    "    frames = []  \n",
    "    def __init__(self, master):\n",
    "        self.isrecording = False\n",
    "        self.text = tk.StringVar()\n",
    "        self.text.set(\"sentence #0\")\n",
    "        \n",
    "        self.label = tk.Label(master, textvariable=self.text)\n",
    "        self.button1 = tk.Button(master, text='rec',command=self.start_recording, padx=50)\n",
    "        self.button2 = tk.Button(master, text='stop',command=self.stop_recording, padx=50)\n",
    "        self.button2[\"state\"] = \"disabled\"\n",
    "        \n",
    "        self.label.pack()\n",
    "        self.button1.pack()\n",
    "        self.button2.pack()\n",
    "        \n",
    "\n",
    "    def start_recording(self):\n",
    "        self.p = pyaudio.PyAudio()  \n",
    "        self.stream = self.p.open(format=self.sample_format,channels=self.channels,rate=self.fs,frames_per_buffer=self.chunk,input=True)\n",
    "        self.isrecording = True\n",
    "        self.button1[\"state\"] = \"disabled\"\n",
    "        self.button2[\"state\"] = \"normal\"\n",
    "        \n",
    "        print('Recording')\n",
    "        t = threading.Thread(target=self.record)\n",
    "        t.start()\n",
    "\n",
    "    def stop_recording(self):\n",
    "        self.isrecording = False\n",
    "        print('recording complete')\n",
    "        self.button1[\"state\"] = \"normal\"\n",
    "        self.button2[\"state\"] = \"disable\"\n",
    "        \n",
    "        self.filename= \"sentence\" + str(self.sentence_counter) + \".wav\" #tên file\n",
    "        self.sentence_counter = self.sentence_counter + 1\n",
    "        self.change_label()\n",
    "        \n",
    "        wf = wave.open(self.filename, 'wb')\n",
    "        wf.setnchannels(self.channels)\n",
    "        wf.setsampwidth(self.p.get_sample_size(self.sample_format))\n",
    "        wf.setframerate(self.fs)\n",
    "        wf.writeframes(b''.join(self.frames))\n",
    "        wf.close()\n",
    "        self.frames = [] #reset lại dữ liệu ghi âm\n",
    "        \n",
    "    def record(self):\n",
    "        while self.isrecording:\n",
    "            data = self.stream.read(self.chunk)\n",
    "            self.frames.append(data)\n",
    "            \n",
    "    def change_label(self): #đổi số câu\n",
    "        self.text.set(\"sentence #\"+str(self.sentence_counter))\n",
    "\t\t\n",
    "\n",
    "main = tk.Tk()\n",
    "main.title('recorder')\n",
    "main.geometry('400x500')\n",
    "app = Recorder(main)\n",
    "main.mainloop()"
   ]
  },
  {
   "cell_type": "code",
   "execution_count": null,
   "metadata": {},
   "outputs": [],
   "source": []
  }
 ],
 "metadata": {
  "kernelspec": {
   "display_name": "Python 3",
   "language": "python",
   "name": "python3"
  },
  "language_info": {
   "codemirror_mode": {
    "name": "ipython",
    "version": 3
   },
   "file_extension": ".py",
   "mimetype": "text/x-python",
   "name": "python",
   "nbconvert_exporter": "python",
   "pygments_lexer": "ipython3",
   "version": "3.7.6"
  }
 },
 "nbformat": 4,
 "nbformat_minor": 4
}
